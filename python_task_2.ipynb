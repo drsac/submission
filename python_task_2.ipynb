{
 "cells": [
  {
   "cell_type": "code",
   "execution_count": 1,
   "id": "9d0fa8f6",
   "metadata": {},
   "outputs": [],
   "source": [
    "import numpy as np\n",
    "import pandas as pd\n",
    "import warnings\n"
   ]
  },
  {
   "cell_type": "code",
   "execution_count": 2,
   "id": "dff7312c",
   "metadata": {},
   "outputs": [],
   "source": [
    "data = pd.read_csv(\"dataset-3.csv\", encoding='UTF-8-SIG')"
   ]
  },
  {
   "cell_type": "code",
   "execution_count": 3,
   "id": "9d755498",
   "metadata": {},
   "outputs": [
    {
     "data": {
      "text/html": [
       "<div>\n",
       "<style scoped>\n",
       "    .dataframe tbody tr th:only-of-type {\n",
       "        vertical-align: middle;\n",
       "    }\n",
       "\n",
       "    .dataframe tbody tr th {\n",
       "        vertical-align: top;\n",
       "    }\n",
       "\n",
       "    .dataframe thead th {\n",
       "        text-align: right;\n",
       "    }\n",
       "</style>\n",
       "<table border=\"1\" class=\"dataframe\">\n",
       "  <thead>\n",
       "    <tr style=\"text-align: right;\">\n",
       "      <th></th>\n",
       "      <th>id_start</th>\n",
       "      <th>id_end</th>\n",
       "      <th>distance</th>\n",
       "    </tr>\n",
       "  </thead>\n",
       "  <tbody>\n",
       "    <tr>\n",
       "      <th>0</th>\n",
       "      <td>1001400</td>\n",
       "      <td>1001402</td>\n",
       "      <td>9.7</td>\n",
       "    </tr>\n",
       "    <tr>\n",
       "      <th>1</th>\n",
       "      <td>1001402</td>\n",
       "      <td>1001404</td>\n",
       "      <td>20.2</td>\n",
       "    </tr>\n",
       "    <tr>\n",
       "      <th>2</th>\n",
       "      <td>1001404</td>\n",
       "      <td>1001406</td>\n",
       "      <td>16.0</td>\n",
       "    </tr>\n",
       "    <tr>\n",
       "      <th>3</th>\n",
       "      <td>1001406</td>\n",
       "      <td>1001408</td>\n",
       "      <td>21.7</td>\n",
       "    </tr>\n",
       "    <tr>\n",
       "      <th>4</th>\n",
       "      <td>1001408</td>\n",
       "      <td>1001410</td>\n",
       "      <td>11.1</td>\n",
       "    </tr>\n",
       "  </tbody>\n",
       "</table>\n",
       "</div>"
      ],
      "text/plain": [
       "   id_start   id_end  distance\n",
       "0   1001400  1001402       9.7\n",
       "1   1001402  1001404      20.2\n",
       "2   1001404  1001406      16.0\n",
       "3   1001406  1001408      21.7\n",
       "4   1001408  1001410      11.1"
      ]
     },
     "execution_count": 3,
     "metadata": {},
     "output_type": "execute_result"
    }
   ],
   "source": [
    "data.head()"
   ]
  },
  {
   "cell_type": "code",
   "execution_count": 4,
   "id": "0a5dd9c5",
   "metadata": {},
   "outputs": [
    {
     "data": {
      "text/html": [
       "<div>\n",
       "<style scoped>\n",
       "    .dataframe tbody tr th:only-of-type {\n",
       "        vertical-align: middle;\n",
       "    }\n",
       "\n",
       "    .dataframe tbody tr th {\n",
       "        vertical-align: top;\n",
       "    }\n",
       "\n",
       "    .dataframe thead th {\n",
       "        text-align: right;\n",
       "    }\n",
       "</style>\n",
       "<table border=\"1\" class=\"dataframe\">\n",
       "  <thead>\n",
       "    <tr style=\"text-align: right;\">\n",
       "      <th></th>\n",
       "      <th>id_start</th>\n",
       "      <th>id_end</th>\n",
       "      <th>distance</th>\n",
       "    </tr>\n",
       "  </thead>\n",
       "  <tbody>\n",
       "    <tr>\n",
       "      <th>39</th>\n",
       "      <td>1001462</td>\n",
       "      <td>1001464</td>\n",
       "      <td>26.7</td>\n",
       "    </tr>\n",
       "    <tr>\n",
       "      <th>40</th>\n",
       "      <td>1001464</td>\n",
       "      <td>1001466</td>\n",
       "      <td>8.5</td>\n",
       "    </tr>\n",
       "    <tr>\n",
       "      <th>41</th>\n",
       "      <td>1001466</td>\n",
       "      <td>1001468</td>\n",
       "      <td>10.7</td>\n",
       "    </tr>\n",
       "    <tr>\n",
       "      <th>42</th>\n",
       "      <td>1001468</td>\n",
       "      <td>1001470</td>\n",
       "      <td>10.6</td>\n",
       "    </tr>\n",
       "    <tr>\n",
       "      <th>43</th>\n",
       "      <td>1001470</td>\n",
       "      <td>1001472</td>\n",
       "      <td>16.0</td>\n",
       "    </tr>\n",
       "  </tbody>\n",
       "</table>\n",
       "</div>"
      ],
      "text/plain": [
       "    id_start   id_end  distance\n",
       "39   1001462  1001464      26.7\n",
       "40   1001464  1001466       8.5\n",
       "41   1001466  1001468      10.7\n",
       "42   1001468  1001470      10.6\n",
       "43   1001470  1001472      16.0"
      ]
     },
     "execution_count": 4,
     "metadata": {},
     "output_type": "execute_result"
    }
   ],
   "source": [
    "data.tail()"
   ]
  },
  {
   "cell_type": "code",
   "execution_count": 5,
   "id": "2e49845f",
   "metadata": {},
   "outputs": [
    {
     "data": {
      "text/plain": [
       "(44, 3)"
      ]
     },
     "execution_count": 5,
     "metadata": {},
     "output_type": "execute_result"
    }
   ],
   "source": [
    "data.shape"
   ]
  },
  {
   "cell_type": "code",
   "execution_count": 6,
   "id": "bef08b9c",
   "metadata": {},
   "outputs": [
    {
     "name": "stdout",
     "output_type": "stream",
     "text": [
      "<class 'pandas.core.frame.DataFrame'>\n",
      "RangeIndex: 44 entries, 0 to 43\n",
      "Data columns (total 3 columns):\n",
      " #   Column    Non-Null Count  Dtype  \n",
      "---  ------    --------------  -----  \n",
      " 0   id_start  44 non-null     int64  \n",
      " 1   id_end    44 non-null     int64  \n",
      " 2   distance  44 non-null     float64\n",
      "dtypes: float64(1), int64(2)\n",
      "memory usage: 1.2 KB\n"
     ]
    }
   ],
   "source": [
    "data.info()"
   ]
  },
  {
   "cell_type": "markdown",
   "id": "787a10ba",
   "metadata": {},
   "source": [
    "### Question 1: Distance Matrix Calculation\n",
    "#### Create a function named calculate_distance_matrix that takes the dataset-3.csv as input and generates a DataFrame representing distances between IDs.\n",
    "#### The resulting DataFrame should have cumulative distances along known routes, with diagonal values set to 0. If distances between toll locations A to B and B to C are known, then the distance from A to C should be the sum of these distances. Ensure the matrix is symmetric, accounting for bidirectional distances between toll locations (i.e. A to B is equal to B to A)."
   ]
  },
  {
   "cell_type": "code",
   "execution_count": 7,
   "id": "911676ad",
   "metadata": {},
   "outputs": [
    {
     "data": {
      "text/plain": [
       "array([1001400, 1001402, 1001404, 1001406, 1001408, 1001410, 1001412,\n",
       "       1001414, 1001416, 1001418, 1001420, 1001422, 1001424, 1001426,\n",
       "       1001428, 1001430, 1001432, 1001434, 1001436, 1001438, 1001440,\n",
       "       1001442, 1001488, 1004356, 1004354, 1004355, 1001444, 1001446,\n",
       "       1001448, 1001450, 1001452, 1001454, 1001456, 1001458, 1001460,\n",
       "       1001461, 1001462, 1001464, 1001466, 1001468, 1001470], dtype=int64)"
      ]
     },
     "execution_count": 7,
     "metadata": {},
     "output_type": "execute_result"
    }
   ],
   "source": [
    "data['id_start'].unique()"
   ]
  },
  {
   "cell_type": "code",
   "execution_count": 8,
   "id": "95735535",
   "metadata": {
    "scrolled": true
   },
   "outputs": [
    {
     "data": {
      "text/plain": [
       "array([1001402, 1001404, 1001406, 1001408, 1001410, 1001412, 1001414,\n",
       "       1001416, 1001418, 1001420, 1001422, 1001424, 1001426, 1001428,\n",
       "       1001430, 1001432, 1001434, 1001436, 1001438, 1001437, 1001440,\n",
       "       1001442, 1001488, 1004356, 1004354, 1004355, 1001444, 1001446,\n",
       "       1001448, 1001450, 1001452, 1001454, 1001456, 1001458, 1001460,\n",
       "       1001461, 1001462, 1001464, 1001466, 1001468, 1001470, 1001472],\n",
       "      dtype=int64)"
      ]
     },
     "execution_count": 8,
     "metadata": {},
     "output_type": "execute_result"
    }
   ],
   "source": [
    "data['id_end'].unique()"
   ]
  },
  {
   "cell_type": "code",
   "execution_count": 10,
   "id": "b2e6c76a",
   "metadata": {},
   "outputs": [
    {
     "name": "stdout",
     "output_type": "stream",
     "text": [
      "Unique id_start values: [1001400 1001402 1001404 1001406 1001408 1001410 1001412 1001414 1001416\n",
      " 1001418 1001420 1001422 1001424 1001426 1001428 1001430 1001432 1001434\n",
      " 1001436 1001438 1001440 1001442 1001488 1004356 1004354 1004355 1001444\n",
      " 1001446 1001448 1001450 1001452 1001454 1001456 1001458 1001460 1001461\n",
      " 1001462 1001464 1001466 1001468 1001470]\n",
      "Unique id_end values: [1001402 1001404 1001406 1001408 1001410 1001412 1001414 1001416 1001418\n",
      " 1001420 1001422 1001424 1001426 1001428 1001430 1001432 1001434 1001436\n",
      " 1001438 1001437 1001440 1001442 1001488 1004356 1004354 1004355 1001444\n",
      " 1001446 1001448 1001450 1001452 1001454 1001456 1001458 1001460 1001461\n",
      " 1001462 1001464 1001466 1001468 1001470 1001472]\n",
      "Missing combinations of id_start and id_end: {1001472, 1001400, 1001437}\n"
     ]
    }
   ],
   "source": [
    "# Print the unique values for id_start and id_end to understand their range\n",
    "print('Unique id_start values:', data['id_start'].unique())\n",
    "print('Unique id_end values:', data['id_end'].unique())\n",
    "\n",
    "# We will also check if there are any missing combinations of id_start and id_end\n",
    "id_start_set = set(data['id_start'].unique())\n",
    "id_end_set = set(data['id_end'].unique())\n",
    "\n",
    "# Find the symmetric difference to identify missing combinations\n",
    "missing_combinations = id_start_set.symmetric_difference(id_end_set)\n",
    "print('Missing combinations of id_start and id_end:', missing_combinations)\n",
    "\n"
   ]
  },
  {
   "cell_type": "markdown",
   "id": "dbba3a73",
   "metadata": {},
   "source": [
    "### Question 2: Unroll Distance Matrix\n",
    "#### Create a function unroll_distance_matrix that takes the DataFrame created in Question 1. The resulting DataFrame should have three columns: columns id_start, id_end, and distance.\n",
    "#### All the combinations except for same id_start to id_end must be present in the rows with their distance values from the input DataFrame."
   ]
  },
  {
   "cell_type": "code",
   "execution_count": null,
   "id": "c6e69d60",
   "metadata": {},
   "outputs": [],
   "source": []
  }
 ],
 "metadata": {
  "kernelspec": {
   "display_name": "Python 3 (ipykernel)",
   "language": "python",
   "name": "python3"
  },
  "language_info": {
   "codemirror_mode": {
    "name": "ipython",
    "version": 3
   },
   "file_extension": ".py",
   "mimetype": "text/x-python",
   "name": "python",
   "nbconvert_exporter": "python",
   "pygments_lexer": "ipython3",
   "version": "3.9.12"
  }
 },
 "nbformat": 4,
 "nbformat_minor": 5
}
